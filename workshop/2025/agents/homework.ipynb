{
 "cells": [
  {
   "cell_type": "code",
   "execution_count": 1,
   "id": "9ffb9fff",
   "metadata": {},
   "outputs": [],
   "source": [
    "import random\n",
    "\n",
    "known_weather_data = {\n",
    "    'berlin': 20.0\n",
    "}\n",
    "\n",
    "def get_weather(city: str) -> float:\n",
    "    city = city.strip().lower()\n",
    "\n",
    "    if city in known_weather_data:\n",
    "        return known_weather_data[city]\n",
    "\n",
    "    return round(random.uniform(-5, 35), 1)"
   ]
  },
  {
   "cell_type": "code",
   "execution_count": 2,
   "id": "d33adba4",
   "metadata": {},
   "outputs": [],
   "source": [
    "get_weather_tool = {\n",
    "    \"type\": \"function\",\n",
    "    \"name\": \"get_weather\",\n",
    "    \"description\": \"Tool to get the current weather in a specified city.\",\n",
    "    \"parameters\": {\n",
    "        \"type\": \"object\",\n",
    "        \"properties\": {\n",
    "            \"city\": {\n",
    "                \"type\": \"string\",\n",
    "                \"description\": \"The name of the city to get the weather for. It should be a valid city name.\",\n",
    "            }\n",
    "        },\n",
    "        \"required\": [\"city\"],\n",
    "        \"additionalProperties\": False\n",
    "    }\n",
    "}"
   ]
  },
  {
   "cell_type": "code",
   "execution_count": 3,
   "id": "09f05aa1",
   "metadata": {},
   "outputs": [],
   "source": [
    "def set_weather(city: str, temp: float) -> None:\n",
    "    city = city.strip().lower()\n",
    "    known_weather_data[city] = temp\n",
    "    return 'OK'"
   ]
  },
  {
   "cell_type": "code",
   "execution_count": 4,
   "id": "06344d19",
   "metadata": {},
   "outputs": [],
   "source": [
    "set_weather_tool = {\n",
    "    \"type\": \"function\",\n",
    "    \"name\": \"set_weather\",\n",
    "    \"description\": \"Tool to set the current weather for a specified city.\",\n",
    "    \"parameters\": {\n",
    "        \"type\": \"object\",\n",
    "        \"properties\": {\n",
    "            \"city\": {\n",
    "                \"type\": \"string\",\n",
    "                \"description\": \"The name of the city to set the weather for. It should be a valid city name.\",\n",
    "            },\n",
    "            \"temp\": {\n",
    "                \"type\": \"number\",\n",
    "                \"description\": \"The temperature to set for the specified city. It should be a valid number.\",\n",
    "            }\n",
    "        },\n",
    "        \"required\": [\"city\", \"temp\"],\n",
    "        \"additionalProperties\": False\n",
    "    }\n",
    "}"
   ]
  },
  {
   "cell_type": "code",
   "execution_count": 5,
   "id": "a063a0af",
   "metadata": {},
   "outputs": [
    {
     "name": "stdout",
     "output_type": "stream",
     "text": [
      "Collecting fastmcp\n",
      "  Downloading fastmcp-2.10.4-py3-none-any.whl.metadata (17 kB)\n",
      "Collecting authlib>=1.5.2 (from fastmcp)\n",
      "  Downloading authlib-1.6.0-py2.py3-none-any.whl.metadata (4.1 kB)\n",
      "Collecting cyclopts>=3.0.0 (from fastmcp)\n",
      "  Downloading cyclopts-3.22.2-py3-none-any.whl.metadata (11 kB)\n",
      "Requirement already satisfied: exceptiongroup>=1.2.2 in c:\\users\\alexey\\anaconda3\\envs\\llm-zoomcamp\\lib\\site-packages (from fastmcp) (1.3.0)\n",
      "Requirement already satisfied: httpx>=0.28.1 in c:\\users\\alexey\\anaconda3\\envs\\llm-zoomcamp\\lib\\site-packages (from fastmcp) (0.28.1)\n",
      "Collecting mcp>=1.10.0 (from fastmcp)\n",
      "  Downloading mcp-1.10.1-py3-none-any.whl.metadata (40 kB)\n",
      "Collecting openapi-pydantic>=0.5.1 (from fastmcp)\n",
      "  Downloading openapi_pydantic-0.5.1-py3-none-any.whl.metadata (10 kB)\n",
      "Requirement already satisfied: pydantic>=2.11.7 in c:\\users\\alexey\\anaconda3\\envs\\llm-zoomcamp\\lib\\site-packages (from pydantic[email]>=2.11.7->fastmcp) (2.11.7)\n",
      "Collecting pyperclip>=1.9.0 (from fastmcp)\n",
      "  Downloading pyperclip-1.9.0.tar.gz (20 kB)\n",
      "  Preparing metadata (setup.py): started\n",
      "  Preparing metadata (setup.py): finished with status 'done'\n",
      "Requirement already satisfied: python-dotenv>=1.1.0 in c:\\users\\alexey\\anaconda3\\envs\\llm-zoomcamp\\lib\\site-packages (from fastmcp) (1.1.1)\n",
      "Requirement already satisfied: rich>=13.9.4 in c:\\users\\alexey\\anaconda3\\envs\\llm-zoomcamp\\lib\\site-packages (from fastmcp) (14.0.0)\n",
      "Collecting cryptography (from authlib>=1.5.2->fastmcp)\n",
      "  Using cached cryptography-45.0.5-cp311-abi3-win_amd64.whl.metadata (5.7 kB)\n",
      "Requirement already satisfied: attrs>=23.1.0 in c:\\users\\alexey\\anaconda3\\envs\\llm-zoomcamp\\lib\\site-packages (from cyclopts>=3.0.0->fastmcp) (25.3.0)\n",
      "Collecting docstring-parser>=0.15 (from cyclopts>=3.0.0->fastmcp)\n",
      "  Using cached docstring_parser-0.16-py3-none-any.whl.metadata (3.0 kB)\n",
      "Collecting rich-rst<2.0.0,>=1.3.1 (from cyclopts>=3.0.0->fastmcp)\n",
      "  Downloading rich_rst-1.3.1-py3-none-any.whl.metadata (6.0 kB)\n",
      "Collecting docutils (from rich-rst<2.0.0,>=1.3.1->cyclopts>=3.0.0->fastmcp)\n",
      "  Downloading docutils-0.21.2-py3-none-any.whl.metadata (2.8 kB)\n",
      "Requirement already satisfied: anyio in c:\\users\\alexey\\anaconda3\\envs\\llm-zoomcamp\\lib\\site-packages (from httpx>=0.28.1->fastmcp) (4.9.0)\n",
      "Requirement already satisfied: certifi in c:\\users\\alexey\\anaconda3\\envs\\llm-zoomcamp\\lib\\site-packages (from httpx>=0.28.1->fastmcp) (2025.6.15)\n",
      "Requirement already satisfied: httpcore==1.* in c:\\users\\alexey\\anaconda3\\envs\\llm-zoomcamp\\lib\\site-packages (from httpx>=0.28.1->fastmcp) (1.0.9)\n",
      "Requirement already satisfied: idna in c:\\users\\alexey\\anaconda3\\envs\\llm-zoomcamp\\lib\\site-packages (from httpx>=0.28.1->fastmcp) (3.10)\n",
      "Requirement already satisfied: h11>=0.16 in c:\\users\\alexey\\anaconda3\\envs\\llm-zoomcamp\\lib\\site-packages (from httpcore==1.*->httpx>=0.28.1->fastmcp) (0.16.0)\n",
      "Collecting httpx-sse>=0.4 (from mcp>=1.10.0->fastmcp)\n",
      "  Downloading httpx_sse-0.4.1-py3-none-any.whl.metadata (9.4 kB)\n",
      "Requirement already satisfied: jsonschema>=4.20.0 in c:\\users\\alexey\\anaconda3\\envs\\llm-zoomcamp\\lib\\site-packages (from mcp>=1.10.0->fastmcp) (4.24.0)\n",
      "Collecting pydantic-settings>=2.5.2 (from mcp>=1.10.0->fastmcp)\n",
      "  Using cached pydantic_settings-2.10.1-py3-none-any.whl.metadata (3.4 kB)\n",
      "Collecting python-multipart>=0.0.9 (from mcp>=1.10.0->fastmcp)\n",
      "  Using cached python_multipart-0.0.20-py3-none-any.whl.metadata (1.8 kB)\n",
      "Collecting sse-starlette>=1.6.1 (from mcp>=1.10.0->fastmcp)\n",
      "  Downloading sse_starlette-2.4.1-py3-none-any.whl.metadata (10 kB)\n",
      "Collecting starlette>=0.27 (from mcp>=1.10.0->fastmcp)\n",
      "  Downloading starlette-0.47.1-py3-none-any.whl.metadata (6.2 kB)\n",
      "Collecting uvicorn>=0.23.1 (from mcp>=1.10.0->fastmcp)\n",
      "  Downloading uvicorn-0.35.0-py3-none-any.whl.metadata (6.5 kB)\n",
      "Requirement already satisfied: annotated-types>=0.6.0 in c:\\users\\alexey\\anaconda3\\envs\\llm-zoomcamp\\lib\\site-packages (from pydantic>=2.11.7->pydantic[email]>=2.11.7->fastmcp) (0.7.0)\n",
      "Requirement already satisfied: pydantic-core==2.33.2 in c:\\users\\alexey\\anaconda3\\envs\\llm-zoomcamp\\lib\\site-packages (from pydantic>=2.11.7->pydantic[email]>=2.11.7->fastmcp) (2.33.2)\n",
      "Requirement already satisfied: typing-extensions>=4.12.2 in c:\\users\\alexey\\anaconda3\\envs\\llm-zoomcamp\\lib\\site-packages (from pydantic>=2.11.7->pydantic[email]>=2.11.7->fastmcp) (4.14.0)\n",
      "Requirement already satisfied: typing-inspection>=0.4.0 in c:\\users\\alexey\\anaconda3\\envs\\llm-zoomcamp\\lib\\site-packages (from pydantic>=2.11.7->pydantic[email]>=2.11.7->fastmcp) (0.4.1)\n",
      "Requirement already satisfied: sniffio>=1.1 in c:\\users\\alexey\\anaconda3\\envs\\llm-zoomcamp\\lib\\site-packages (from anyio->httpx>=0.28.1->fastmcp) (1.3.1)\n",
      "Requirement already satisfied: jsonschema-specifications>=2023.03.6 in c:\\users\\alexey\\anaconda3\\envs\\llm-zoomcamp\\lib\\site-packages (from jsonschema>=4.20.0->mcp>=1.10.0->fastmcp) (2025.4.1)\n",
      "Requirement already satisfied: referencing>=0.28.4 in c:\\users\\alexey\\anaconda3\\envs\\llm-zoomcamp\\lib\\site-packages (from jsonschema>=4.20.0->mcp>=1.10.0->fastmcp) (0.36.2)\n",
      "Requirement already satisfied: rpds-py>=0.7.1 in c:\\users\\alexey\\anaconda3\\envs\\llm-zoomcamp\\lib\\site-packages (from jsonschema>=4.20.0->mcp>=1.10.0->fastmcp) (0.25.1)\n",
      "Collecting email-validator>=2.0.0 (from pydantic[email]>=2.11.7->fastmcp)\n",
      "  Using cached email_validator-2.2.0-py3-none-any.whl.metadata (25 kB)\n",
      "Collecting dnspython>=2.0.0 (from email-validator>=2.0.0->pydantic[email]>=2.11.7->fastmcp)\n",
      "  Using cached dnspython-2.7.0-py3-none-any.whl.metadata (5.8 kB)\n",
      "Requirement already satisfied: markdown-it-py>=2.2.0 in c:\\users\\alexey\\anaconda3\\envs\\llm-zoomcamp\\lib\\site-packages (from rich>=13.9.4->fastmcp) (3.0.0)\n",
      "Requirement already satisfied: pygments<3.0.0,>=2.13.0 in c:\\users\\alexey\\anaconda3\\envs\\llm-zoomcamp\\lib\\site-packages (from rich>=13.9.4->fastmcp) (2.19.1)\n",
      "Requirement already satisfied: mdurl~=0.1 in c:\\users\\alexey\\anaconda3\\envs\\llm-zoomcamp\\lib\\site-packages (from markdown-it-py>=2.2.0->rich>=13.9.4->fastmcp) (0.1.2)\n",
      "Requirement already satisfied: click>=7.0 in c:\\users\\alexey\\anaconda3\\envs\\llm-zoomcamp\\lib\\site-packages (from uvicorn>=0.23.1->mcp>=1.10.0->fastmcp) (8.2.1)\n",
      "Requirement already satisfied: colorama in c:\\users\\alexey\\anaconda3\\envs\\llm-zoomcamp\\lib\\site-packages (from click>=7.0->uvicorn>=0.23.1->mcp>=1.10.0->fastmcp) (0.4.6)\n",
      "Requirement already satisfied: cffi>=1.14 in c:\\users\\alexey\\anaconda3\\envs\\llm-zoomcamp\\lib\\site-packages (from cryptography->authlib>=1.5.2->fastmcp) (1.17.1)\n",
      "Requirement already satisfied: pycparser in c:\\users\\alexey\\anaconda3\\envs\\llm-zoomcamp\\lib\\site-packages (from cffi>=1.14->cryptography->authlib>=1.5.2->fastmcp) (2.22)\n",
      "Downloading fastmcp-2.10.4-py3-none-any.whl (199 kB)\n",
      "Downloading authlib-1.6.0-py2.py3-none-any.whl (239 kB)\n",
      "Downloading cyclopts-3.22.2-py3-none-any.whl (84 kB)\n",
      "Downloading rich_rst-1.3.1-py3-none-any.whl (11 kB)\n",
      "Using cached docstring_parser-0.16-py3-none-any.whl (36 kB)\n",
      "Downloading mcp-1.10.1-py3-none-any.whl (150 kB)\n",
      "Downloading httpx_sse-0.4.1-py3-none-any.whl (8.1 kB)\n",
      "Downloading openapi_pydantic-0.5.1-py3-none-any.whl (96 kB)\n",
      "Using cached pydantic_settings-2.10.1-py3-none-any.whl (45 kB)\n",
      "Using cached email_validator-2.2.0-py3-none-any.whl (33 kB)\n",
      "Using cached dnspython-2.7.0-py3-none-any.whl (313 kB)\n",
      "Using cached python_multipart-0.0.20-py3-none-any.whl (24 kB)\n",
      "Downloading sse_starlette-2.4.1-py3-none-any.whl (10 kB)\n",
      "Downloading starlette-0.47.1-py3-none-any.whl (72 kB)\n",
      "Downloading uvicorn-0.35.0-py3-none-any.whl (66 kB)\n",
      "Using cached cryptography-45.0.5-cp311-abi3-win_amd64.whl (3.4 MB)\n",
      "Downloading docutils-0.21.2-py3-none-any.whl (587 kB)\n",
      "   ---------------------------------------- 0.0/587.4 kB ? eta -:--:--\n",
      "   ---------------------------------------- 587.4/587.4 kB 2.2 MB/s eta 0:00:00\n",
      "Building wheels for collected packages: pyperclip\n",
      "  Building wheel for pyperclip (setup.py): started\n",
      "  Building wheel for pyperclip (setup.py): finished with status 'done'\n",
      "  Created wheel for pyperclip: filename=pyperclip-1.9.0-py3-none-any.whl size=11117 sha256=c17023482b90764c90805050022805c513ebb012b67fd8916afa3f0046bba26e\n",
      "  Stored in directory: c:\\users\\alexey\\appdata\\local\\pip\\cache\\wheels\\9c\\79\\90\\c9e831caaffa2633ad99f1d35c6ea39866b92de62e909e89ef\n",
      "Successfully built pyperclip\n",
      "Installing collected packages: pyperclip, python-multipart, httpx-sse, docutils, docstring-parser, dnspython, uvicorn, starlette, sse-starlette, email-validator, cryptography, rich-rst, pydantic-settings, openapi-pydantic, authlib, mcp, cyclopts, fastmcp\n",
      "\n",
      "   ---- -----------------------------------  2/18 [httpx-sse]\n",
      "   ------ ---------------------------------  3/18 [docutils]\n",
      "   ------ ---------------------------------  3/18 [docutils]\n",
      "   ------ ---------------------------------  3/18 [docutils]\n",
      "   ------ ---------------------------------  3/18 [docutils]\n",
      "   -------- -------------------------------  4/18 [docstring-parser]\n",
      "   ----------- ----------------------------  5/18 [dnspython]\n",
      "   ----------- ----------------------------  5/18 [dnspython]\n",
      "   ----------- ----------------------------  5/18 [dnspython]\n",
      "   ----------- ----------------------------  5/18 [dnspython]\n",
      "   ------------- --------------------------  6/18 [uvicorn]\n",
      "   --------------- ------------------------  7/18 [starlette]\n",
      "   --------------- ------------------------  7/18 [starlette]\n",
      "   -------------------- -------------------  9/18 [email-validator]\n",
      "   ---------------------- ----------------- 10/18 [cryptography]\n",
      "   ------------------------ --------------- 11/18 [rich-rst]\n",
      "   -------------------------- ------------- 12/18 [pydantic-settings]\n",
      "   ---------------------------- ----------- 13/18 [openapi-pydantic]\n",
      "   ------------------------------- -------- 14/18 [authlib]\n",
      "   ------------------------------- -------- 14/18 [authlib]\n",
      "   ------------------------------- -------- 14/18 [authlib]\n",
      "   ------------------------------- -------- 14/18 [authlib]\n",
      "   --------------------------------- ------ 15/18 [mcp]\n",
      "   --------------------------------- ------ 15/18 [mcp]\n",
      "   ----------------------------------- ---- 16/18 [cyclopts]\n",
      "   ------------------------------------- -- 17/18 [fastmcp]\n",
      "   ---------------------------------------- 18/18 [fastmcp]\n",
      "\n",
      "Successfully installed authlib-1.6.0 cryptography-45.0.5 cyclopts-3.22.2 dnspython-2.7.0 docstring-parser-0.16 docutils-0.21.2 email-validator-2.2.0 fastmcp-2.10.4 httpx-sse-0.4.1 mcp-1.10.1 openapi-pydantic-0.5.1 pydantic-settings-2.10.1 pyperclip-1.9.0 python-multipart-0.0.20 rich-rst-1.3.1 sse-starlette-2.4.1 starlette-0.47.1 uvicorn-0.35.0\n"
     ]
    },
    {
     "name": "stderr",
     "output_type": "stream",
     "text": [
      "  DEPRECATION: Building 'pyperclip' using the legacy setup.py bdist_wheel mechanism, which will be removed in a future version. pip 25.3 will enforce this behaviour change. A possible replacement is to use the standardized build interface by setting the `--use-pep517` option, (possibly combined with `--no-build-isolation`), or adding a `pyproject.toml` file to the source tree of 'pyperclip'. Discussion can be found at https://github.com/pypa/pip/issues/6334\n"
     ]
    }
   ],
   "source": [
    "!pip install fastmcp"
   ]
  },
  {
   "cell_type": "code",
   "execution_count": 6,
   "id": "6c2e82ad",
   "metadata": {},
   "outputs": [
    {
     "data": {
      "text/plain": [
       "'2.10.4'"
      ]
     },
     "execution_count": 6,
     "metadata": {},
     "output_type": "execute_result"
    }
   ],
   "source": [
    "import fastmcp\n",
    "\n",
    "fastmcp.__version__"
   ]
  },
  {
   "cell_type": "code",
   "execution_count": 10,
   "id": "702dca99",
   "metadata": {},
   "outputs": [],
   "source": [
    "from fastmcp import Client\n",
    "import weather_server\n",
    "\n",
    "async def main():\n",
    "    async with Client(weather_server.mcp) as mcp_client:\n",
    "        return await mcp_client.list_tools()"
   ]
  },
  {
   "cell_type": "code",
   "execution_count": 11,
   "id": "b26248fb",
   "metadata": {},
   "outputs": [
    {
     "data": {
      "text/plain": [
       "[Tool(name='get_weather', title=None, description='Retrieves the temperature for a specified city.\\n\\nParameters:\\n    city (str): The name of the city for which to retrieve weather data.\\n\\nReturns:\\n    float: The temperature associated with the city.', inputSchema={'properties': {'city': {'title': 'City', 'type': 'string'}}, 'required': ['city'], 'type': 'object'}, outputSchema={'properties': {'result': {'title': 'Result', 'type': 'number'}}, 'required': ['result'], 'title': '_WrappedResult', 'type': 'object', 'x-fastmcp-wrap-result': True}, annotations=None, meta=None),\n",
       " Tool(name='set_weather', title=None, description=\"Sets the temperature for a specified city.\\n\\nParameters:\\n    city (str): The name of the city for which to set the weather data.\\n    temp (float): The temperature to associate with the city.\\n\\nReturns:\\n    str: A confirmation string 'OK' indicating successful update.\", inputSchema={'properties': {'city': {'title': 'City', 'type': 'string'}, 'temp': {'title': 'Temp', 'type': 'number'}}, 'required': ['city', 'temp'], 'type': 'object'}, outputSchema=None, annotations=None, meta=None)]"
      ]
     },
     "execution_count": 11,
     "metadata": {},
     "output_type": "execute_result"
    }
   ],
   "source": [
    "await main()"
   ]
  }
 ],
 "metadata": {
  "kernelspec": {
   "display_name": "llm-zoomcamp",
   "language": "python",
   "name": "python3"
  },
  "language_info": {
   "codemirror_mode": {
    "name": "ipython",
    "version": 3
   },
   "file_extension": ".py",
   "mimetype": "text/x-python",
   "name": "python",
   "nbconvert_exporter": "python",
   "pygments_lexer": "ipython3",
   "version": "3.13.5"
  }
 },
 "nbformat": 4,
 "nbformat_minor": 5
}
