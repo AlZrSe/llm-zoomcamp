{
 "cells": [
  {
   "cell_type": "code",
   "execution_count": 2,
   "id": "0c612d1d",
   "metadata": {},
   "outputs": [],
   "source": [
    "!pip install -q \"dlt[qdrant]\" \"qdrant-client[fastembed]\""
   ]
  },
  {
   "cell_type": "code",
   "execution_count": 8,
   "id": "8c3052fc",
   "metadata": {},
   "outputs": [],
   "source": [
    "import dlt\n",
    "import requests"
   ]
  },
  {
   "cell_type": "code",
   "execution_count": 4,
   "id": "08476294",
   "metadata": {},
   "outputs": [
    {
     "data": {
      "text/plain": [
       "'1.12.3'"
      ]
     },
     "execution_count": 4,
     "metadata": {},
     "output_type": "execute_result"
    }
   ],
   "source": [
    "dlt.__version__"
   ]
  },
  {
   "cell_type": "code",
   "execution_count": 5,
   "id": "2adb4d52",
   "metadata": {},
   "outputs": [],
   "source": [
    "@dlt.resource(name=\"zoomcamp_data\", write_disposition=\"replace\")\n",
    "def zoomcamp_data():\n",
    "    docs_url = 'https://github.com/alexeygrigorev/llm-rag-workshop/raw/main/notebooks/documents.json'\n",
    "    docs_response = requests.get(docs_url)\n",
    "    documents_raw = docs_response.json()\n",
    "\n",
    "    for course in documents_raw:\n",
    "        course_name = course['course']\n",
    "\n",
    "        for doc in course['documents']:\n",
    "            doc['course'] = course_name\n",
    "            yield doc"
   ]
  },
  {
   "cell_type": "code",
   "execution_count": 6,
   "id": "e271b0ec",
   "metadata": {},
   "outputs": [],
   "source": [
    "from dlt.destinations import qdrant\n",
    "\n",
    "qdrant_destination = qdrant(\n",
    "  qd_path=\"db.qdrant\", \n",
    ")"
   ]
  },
  {
   "cell_type": "code",
   "execution_count": 9,
   "id": "12eb918e",
   "metadata": {},
   "outputs": [
    {
     "name": "stdout",
     "output_type": "stream",
     "text": [
      "Run started at 2025-07-07 21:49:53.577912+00:00 and COMPLETED in 32.83 seconds with 4 steps.\n",
      "Step extract COMPLETED in 0.85 seconds.\n",
      "\n",
      "Load package 1751924994.2249088 is EXTRACTED and NOT YET LOADED to the destination and contains no failed jobs\n",
      "\n",
      "Step normalize COMPLETED in 0.08 seconds.\n",
      "Normalized data for the following tables:\n",
      "- zoomcamp_data: 948 row(s)\n",
      "- _dlt_pipeline_state: 1 row(s)\n",
      "\n",
      "Load package 1751924994.2249088 is NORMALIZED and NOT YET LOADED to the destination and contains no failed jobs\n",
      "\n",
      "Step load COMPLETED in 31.26 seconds.\n",
      "Pipeline zoomcamp_pipeline load step completed in 31.24 seconds\n",
      "1 load package(s) were loaded to destination qdrant and into dataset zoomcamp_tagged_data\n",
      "The qdrant destination used d:\\AlZr\\git\\llm-zoomcamp\\workshop\\2025\\dlt\\db.qdrant location to store data\n",
      "Load package 1751924994.2249088 is LOADED and contains no failed jobs\n",
      "\n",
      "Step run COMPLETED in 32.83 seconds.\n",
      "Pipeline zoomcamp_pipeline load step completed in 31.24 seconds\n",
      "1 load package(s) were loaded to destination qdrant and into dataset zoomcamp_tagged_data\n",
      "The qdrant destination used d:\\AlZr\\git\\llm-zoomcamp\\workshop\\2025\\dlt\\db.qdrant location to store data\n",
      "Load package 1751924994.2249088 is LOADED and contains no failed jobs\n"
     ]
    }
   ],
   "source": [
    "pipeline = dlt.pipeline(\n",
    "    pipeline_name=\"zoomcamp_pipeline\",\n",
    "    destination=qdrant_destination,\n",
    "    dataset_name=\"zoomcamp_tagged_data\"\n",
    "\n",
    ")\n",
    "load_info = pipeline.run(zoomcamp_data())\n",
    "print(pipeline.last_trace)"
   ]
  },
  {
   "cell_type": "markdown",
   "id": "86d32f16",
   "metadata": {},
   "source": [
    "fast-bge-small-en"
   ]
  },
  {
   "cell_type": "code",
   "execution_count": null,
   "id": "6a663153",
   "metadata": {},
   "outputs": [],
   "source": []
  }
 ],
 "metadata": {
  "kernelspec": {
   "display_name": "Python 3",
   "language": "python",
   "name": "python3"
  },
  "language_info": {
   "codemirror_mode": {
    "name": "ipython",
    "version": 3
   },
   "file_extension": ".py",
   "mimetype": "text/x-python",
   "name": "python",
   "nbconvert_exporter": "python",
   "pygments_lexer": "ipython3",
   "version": "3.11.13"
  }
 },
 "nbformat": 4,
 "nbformat_minor": 5
}
